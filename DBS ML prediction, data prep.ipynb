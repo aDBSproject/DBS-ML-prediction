{
 "cells": [
  {
   "cell_type": "code",
   "execution_count": 1,
   "metadata": {},
   "outputs": [],
   "source": [
    "import pandas as pd\n",
    "import matplotlib.pyplot as plt\n",
    "%matplotlib inline\n",
    "import numpy as np\n",
    "import scipy\n",
    "from scipy.io import readsav\n",
    "from scipy.signal import find_peaks_cwt\n",
    "from scipy.stats import spearmanr\n",
    "\n",
    "from os import listdir\n",
    "    #method listdir() returns a list containing the names of the entries in the directory given by path.\n",
    "from os.path import isfile, join\n",
    "    #returns true if file in path is an existing regular file"
   ]
  },
  {
   "cell_type": "code",
   "execution_count": 2,
   "metadata": {},
   "outputs": [
    {
     "data": {
      "text/plain": [
       "'/Users/jeroenhabets/Dropbox/PhD werkmap/DBS prediction project'"
      ]
     },
     "execution_count": 2,
     "metadata": {},
     "output_type": "execute_result"
    }
   ],
   "source": [
    "## !! set correct working directory\n",
    "import os\n",
    "path=\"/Users/jeroenhabets/Dropbox/PhD werkmap/DBS prediction project\"\n",
    "os.chdir(path)\n",
    "os.getcwd() #check"
   ]
  },
  {
   "cell_type": "code",
   "execution_count": 38,
   "metadata": {},
   "outputs": [],
   "source": [
    "### reading in excel database\n",
    "data = pd.read_excel('DBS_FU_okt2018.xlsx')\n",
    "columns = data.keys()"
   ]
  },
  {
   "cell_type": "code",
   "execution_count": 39,
   "metadata": {},
   "outputs": [],
   "source": [
    "## extracting existing relevant columns from original database\n",
    "generalCols = columns[:9].tolist() # general patient info; converted to list\n",
    "#print(generalCols)\n",
    "preCols = columns[15:35].tolist() # preop UPDRS scorings + LED; converted to list\n",
    "#print(preCols)\n",
    "oneYearCols = columns[72:109].tolist() # 12 months postop UPDRS + LED; converted to list\n",
    "#print(oneYearCols)\n",
    "\n"
   ]
  },
  {
   "cell_type": "code",
   "execution_count": 40,
   "metadata": {},
   "outputs": [],
   "source": [
    "# add new created cols to relevantCols\n",
    "relevantCols = generalCols + preCols + oneYearCols # make list of 3 lists\n",
    "relevantData = data[relevantCols] #  data of relevant columns from original database"
   ]
  },
  {
   "cell_type": "code",
   "execution_count": 41,
   "metadata": {
    "scrolled": true
   },
   "outputs": [
    {
     "name": "stderr",
     "output_type": "stream",
     "text": [
      "/anaconda3/lib/python3.6/site-packages/ipykernel_launcher.py:2: SettingWithCopyWarning: \n",
      "A value is trying to be set on a copy of a slice from a DataFrame.\n",
      "Try using .loc[row_indexer,col_indexer] = value instead\n",
      "\n",
      "See the caveats in the documentation: http://pandas.pydata.org/pandas-docs/stable/indexing.html#indexing-view-versus-copy\n",
      "  \n",
      "/anaconda3/lib/python3.6/site-packages/ipykernel_launcher.py:3: SettingWithCopyWarning: \n",
      "A value is trying to be set on a copy of a slice from a DataFrame.\n",
      "Try using .loc[row_indexer,col_indexer] = value instead\n",
      "\n",
      "See the caveats in the documentation: http://pandas.pydata.org/pandas-docs/stable/indexing.html#indexing-view-versus-copy\n",
      "  This is separate from the ipykernel package so we can avoid doing imports until\n",
      "/anaconda3/lib/python3.6/site-packages/ipykernel_launcher.py:4: SettingWithCopyWarning: \n",
      "A value is trying to be set on a copy of a slice from a DataFrame.\n",
      "Try using .loc[row_indexer,col_indexer] = value instead\n",
      "\n",
      "See the caveats in the documentation: http://pandas.pydata.org/pandas-docs/stable/indexing.html#indexing-view-versus-copy\n",
      "  after removing the cwd from sys.path.\n",
      "/anaconda3/lib/python3.6/site-packages/ipykernel_launcher.py:5: SettingWithCopyWarning: \n",
      "A value is trying to be set on a copy of a slice from a DataFrame.\n",
      "Try using .loc[row_indexer,col_indexer] = value instead\n",
      "\n",
      "See the caveats in the documentation: http://pandas.pydata.org/pandas-docs/stable/indexing.html#indexing-view-versus-copy\n",
      "  \"\"\"\n",
      "/anaconda3/lib/python3.6/site-packages/ipykernel_launcher.py:7: SettingWithCopyWarning: \n",
      "A value is trying to be set on a copy of a slice from a DataFrame.\n",
      "Try using .loc[row_indexer,col_indexer] = value instead\n",
      "\n",
      "See the caveats in the documentation: http://pandas.pydata.org/pandas-docs/stable/indexing.html#indexing-view-versus-copy\n",
      "  import sys\n",
      "/anaconda3/lib/python3.6/site-packages/ipykernel_launcher.py:8: SettingWithCopyWarning: \n",
      "A value is trying to be set on a copy of a slice from a DataFrame.\n",
      "Try using .loc[row_indexer,col_indexer] = value instead\n",
      "\n",
      "See the caveats in the documentation: http://pandas.pydata.org/pandas-docs/stable/indexing.html#indexing-view-versus-copy\n",
      "  \n",
      "/anaconda3/lib/python3.6/site-packages/ipykernel_launcher.py:9: SettingWithCopyWarning: \n",
      "A value is trying to be set on a copy of a slice from a DataFrame.\n",
      "Try using .loc[row_indexer,col_indexer] = value instead\n",
      "\n",
      "See the caveats in the documentation: http://pandas.pydata.org/pandas-docs/stable/indexing.html#indexing-view-versus-copy\n",
      "  if __name__ == '__main__':\n",
      "/anaconda3/lib/python3.6/site-packages/ipykernel_launcher.py:10: SettingWithCopyWarning: \n",
      "A value is trying to be set on a copy of a slice from a DataFrame.\n",
      "Try using .loc[row_indexer,col_indexer] = value instead\n",
      "\n",
      "See the caveats in the documentation: http://pandas.pydata.org/pandas-docs/stable/indexing.html#indexing-view-versus-copy\n",
      "  # Remove the CWD from sys.path while we load stuff.\n",
      "/anaconda3/lib/python3.6/site-packages/ipykernel_launcher.py:24: SettingWithCopyWarning: \n",
      "A value is trying to be set on a copy of a slice from a DataFrame.\n",
      "Try using .loc[row_indexer,col_indexer] = value instead\n",
      "\n",
      "See the caveats in the documentation: http://pandas.pydata.org/pandas-docs/stable/indexing.html#indexing-view-versus-copy\n",
      "/anaconda3/lib/python3.6/site-packages/ipykernel_launcher.py:26: SettingWithCopyWarning: \n",
      "A value is trying to be set on a copy of a slice from a DataFrame.\n",
      "Try using .loc[row_indexer,col_indexer] = value instead\n",
      "\n",
      "See the caveats in the documentation: http://pandas.pydata.org/pandas-docs/stable/indexing.html#indexing-view-versus-copy\n",
      "/anaconda3/lib/python3.6/site-packages/ipykernel_launcher.py:29: SettingWithCopyWarning: \n",
      "A value is trying to be set on a copy of a slice from a DataFrame.\n",
      "Try using .loc[row_indexer,col_indexer] = value instead\n",
      "\n",
      "See the caveats in the documentation: http://pandas.pydata.org/pandas-docs/stable/indexing.html#indexing-view-versus-copy\n",
      "/anaconda3/lib/python3.6/site-packages/ipykernel_launcher.py:31: SettingWithCopyWarning: \n",
      "A value is trying to be set on a copy of a slice from a DataFrame.\n",
      "Try using .loc[row_indexer,col_indexer] = value instead\n",
      "\n",
      "See the caveats in the documentation: http://pandas.pydata.org/pandas-docs/stable/indexing.html#indexing-view-versus-copy\n",
      "/anaconda3/lib/python3.6/site-packages/ipykernel_launcher.py:34: SettingWithCopyWarning: \n",
      "A value is trying to be set on a copy of a slice from a DataFrame.\n",
      "Try using .loc[row_indexer,col_indexer] = value instead\n",
      "\n",
      "See the caveats in the documentation: http://pandas.pydata.org/pandas-docs/stable/indexing.html#indexing-view-versus-copy\n",
      "/anaconda3/lib/python3.6/site-packages/ipykernel_launcher.py:36: SettingWithCopyWarning: \n",
      "A value is trying to be set on a copy of a slice from a DataFrame.\n",
      "Try using .loc[row_indexer,col_indexer] = value instead\n",
      "\n",
      "See the caveats in the documentation: http://pandas.pydata.org/pandas-docs/stable/indexing.html#indexing-view-versus-copy\n",
      "/anaconda3/lib/python3.6/site-packages/ipykernel_launcher.py:39: SettingWithCopyWarning: \n",
      "A value is trying to be set on a copy of a slice from a DataFrame.\n",
      "Try using .loc[row_indexer,col_indexer] = value instead\n",
      "\n",
      "See the caveats in the documentation: http://pandas.pydata.org/pandas-docs/stable/indexing.html#indexing-view-versus-copy\n",
      "/anaconda3/lib/python3.6/site-packages/ipykernel_launcher.py:41: SettingWithCopyWarning: \n",
      "A value is trying to be set on a copy of a slice from a DataFrame.\n",
      "Try using .loc[row_indexer,col_indexer] = value instead\n",
      "\n",
      "See the caveats in the documentation: http://pandas.pydata.org/pandas-docs/stable/indexing.html#indexing-view-versus-copy\n",
      "/anaconda3/lib/python3.6/site-packages/ipykernel_launcher.py:44: SettingWithCopyWarning: \n",
      "A value is trying to be set on a copy of a slice from a DataFrame.\n",
      "Try using .loc[row_indexer,col_indexer] = value instead\n",
      "\n",
      "See the caveats in the documentation: http://pandas.pydata.org/pandas-docs/stable/indexing.html#indexing-view-versus-copy\n",
      "/anaconda3/lib/python3.6/site-packages/ipykernel_launcher.py:46: SettingWithCopyWarning: \n",
      "A value is trying to be set on a copy of a slice from a DataFrame.\n",
      "Try using .loc[row_indexer,col_indexer] = value instead\n",
      "\n",
      "See the caveats in the documentation: http://pandas.pydata.org/pandas-docs/stable/indexing.html#indexing-view-versus-copy\n",
      "/anaconda3/lib/python3.6/site-packages/ipykernel_launcher.py:49: SettingWithCopyWarning: \n",
      "A value is trying to be set on a copy of a slice from a DataFrame.\n",
      "Try using .loc[row_indexer,col_indexer] = value instead\n",
      "\n",
      "See the caveats in the documentation: http://pandas.pydata.org/pandas-docs/stable/indexing.html#indexing-view-versus-copy\n",
      "/anaconda3/lib/python3.6/site-packages/ipykernel_launcher.py:51: SettingWithCopyWarning: \n",
      "A value is trying to be set on a copy of a slice from a DataFrame.\n",
      "Try using .loc[row_indexer,col_indexer] = value instead\n",
      "\n",
      "See the caveats in the documentation: http://pandas.pydata.org/pandas-docs/stable/indexing.html#indexing-view-versus-copy\n",
      "/anaconda3/lib/python3.6/site-packages/ipykernel_launcher.py:54: SettingWithCopyWarning: \n",
      "A value is trying to be set on a copy of a slice from a DataFrame.\n",
      "Try using .loc[row_indexer,col_indexer] = value instead\n",
      "\n",
      "See the caveats in the documentation: http://pandas.pydata.org/pandas-docs/stable/indexing.html#indexing-view-versus-copy\n",
      "/anaconda3/lib/python3.6/site-packages/ipykernel_launcher.py:56: SettingWithCopyWarning: \n",
      "A value is trying to be set on a copy of a slice from a DataFrame.\n",
      "Try using .loc[row_indexer,col_indexer] = value instead\n",
      "\n",
      "See the caveats in the documentation: http://pandas.pydata.org/pandas-docs/stable/indexing.html#indexing-view-versus-copy\n",
      "/anaconda3/lib/python3.6/site-packages/ipykernel_launcher.py:59: SettingWithCopyWarning: \n",
      "A value is trying to be set on a copy of a slice from a DataFrame.\n",
      "Try using .loc[row_indexer,col_indexer] = value instead\n",
      "\n",
      "See the caveats in the documentation: http://pandas.pydata.org/pandas-docs/stable/indexing.html#indexing-view-versus-copy\n",
      "/anaconda3/lib/python3.6/site-packages/ipykernel_launcher.py:61: SettingWithCopyWarning: \n",
      "A value is trying to be set on a copy of a slice from a DataFrame.\n",
      "Try using .loc[row_indexer,col_indexer] = value instead\n",
      "\n",
      "See the caveats in the documentation: http://pandas.pydata.org/pandas-docs/stable/indexing.html#indexing-view-versus-copy\n",
      "/anaconda3/lib/python3.6/site-packages/ipykernel_launcher.py:65: SettingWithCopyWarning: \n",
      "A value is trying to be set on a copy of a slice from a DataFrame.\n",
      "Try using .loc[row_indexer,col_indexer] = value instead\n",
      "\n",
      "See the caveats in the documentation: http://pandas.pydata.org/pandas-docs/stable/indexing.html#indexing-view-versus-copy\n",
      "/anaconda3/lib/python3.6/site-packages/ipykernel_launcher.py:67: SettingWithCopyWarning: \n",
      "A value is trying to be set on a copy of a slice from a DataFrame.\n",
      "Try using .loc[row_indexer,col_indexer] = value instead\n",
      "\n",
      "See the caveats in the documentation: http://pandas.pydata.org/pandas-docs/stable/indexing.html#indexing-view-versus-copy\n",
      "/anaconda3/lib/python3.6/site-packages/ipykernel_launcher.py:70: SettingWithCopyWarning: \n",
      "A value is trying to be set on a copy of a slice from a DataFrame.\n",
      "Try using .loc[row_indexer,col_indexer] = value instead\n",
      "\n",
      "See the caveats in the documentation: http://pandas.pydata.org/pandas-docs/stable/indexing.html#indexing-view-versus-copy\n",
      "/anaconda3/lib/python3.6/site-packages/ipykernel_launcher.py:73: SettingWithCopyWarning: \n",
      "A value is trying to be set on a copy of a slice from a DataFrame.\n",
      "Try using .loc[row_indexer,col_indexer] = value instead\n",
      "\n",
      "See the caveats in the documentation: http://pandas.pydata.org/pandas-docs/stable/indexing.html#indexing-view-versus-copy\n"
     ]
    },
    {
     "name": "stderr",
     "output_type": "stream",
     "text": [
      "/anaconda3/lib/python3.6/site-packages/ipykernel_launcher.py:75: SettingWithCopyWarning: \n",
      "A value is trying to be set on a copy of a slice from a DataFrame.\n",
      "Try using .loc[row_indexer,col_indexer] = value instead\n",
      "\n",
      "See the caveats in the documentation: http://pandas.pydata.org/pandas-docs/stable/indexing.html#indexing-view-versus-copy\n"
     ]
    }
   ],
   "source": [
    "### adding relevant new parameters direct to relevantData\n",
    "relevantData['UPDRS.I_pre_LEDdif'] = (relevantData['UPDRS.I_pre_on'] - relevantData['UPDRS.I_pre_off'])\n",
    "relevantData['UPDRS.II_pre_LEDdif'] = (relevantData['UPDRS.II_pre_on'] - relevantData['UPDRS.II_pre_off'])\n",
    "relevantData['UPDRS.III_pre_LEDdif'] = (relevantData['UPDRS.III_pre_on'] - relevantData['UPDRS.III_pre_off'])\n",
    "relevantData['UPDRS.IV_pre_LEDdif'] = (relevantData['UPDRS.IV_pre_on'] - relevantData['UPDRS.IV_pre_off'])\n",
    "\n",
    "relevantData['UPDRS.I_pre_%LEDdif'] = (relevantData['UPDRS.I_pre_on'] - relevantData['UPDRS.I_pre_off'])/ relevantData['UPDRS.I_pre_off']\n",
    "relevantData['UPDRS.II_pre_%LEDdif'] = (relevantData['UPDRS.II_pre_on'] - relevantData['UPDRS.II_pre_off'])/ relevantData['UPDRS.II_pre_off']\n",
    "relevantData['UPDRS.III_pre_%LEDdif'] = (relevantData['UPDRS.III_pre_on'] - relevantData['UPDRS.III_pre_off'])/ relevantData['UPDRS.III_pre_off']\n",
    "relevantData['UPDRS.IV_pre_%LEDdif'] = (relevantData['UPDRS.IV_pre_on'] - relevantData['UPDRS.IV_pre_off'])/ relevantData['UPDRS.IV_pre_off']\n",
    "\n",
    "## add new parameters to different Cols lists\n",
    "preCols.append('UPDRS.I_pre_LEDdif')\n",
    "preCols.append('UPDRS.II_pre_LEDdif')\n",
    "preCols.append('UPDRS.III_pre_LEDdif')\n",
    "preCols.append('UPDRS.IV_pre_LEDdif')\n",
    "\n",
    "preCols.append('UPDRS.I_pre_%LEDdif')\n",
    "preCols.append('UPDRS.II_pre_%LEDdif')\n",
    "preCols.append('UPDRS.III_pre_%LEDdif')\n",
    "preCols.append('UPDRS.IV_pre_%LEDdif')\n",
    "\n",
    "# post_StimEff = improvement stimON-medON vs stimOFF-medON\n",
    "relevantData['UPDRS.III_post_StimEff'] = relevantData['UPDRS.III_post_1y_on.on'] - relevantData['UPDRS.III_post_1y_off.on']\n",
    "# post_TotEff = improvement stimON-medON vs stimOFF-medOFF\n",
    "relevantData['UPDRS.III_post_TotEff'] = relevantData['UPDRS.III_post_1y_on.on'] - relevantData['UPDRS.III_post_1y_off.off']\n",
    "\n",
    "# PrePost_MedON = improvement preMedON vs post StimON-MedON\n",
    "relevantData['UPDRS.I_PrePost_MedON'] = relevantData['UPDRS.I_post_1y_on.on'] - relevantData['UPDRS.I_pre_on']\n",
    "# PrePost_MedOFF = improvement preMedON vs post StimON-MedON\n",
    "relevantData['UPDRS.I_PrePost_MedOFF'] = relevantData['UPDRS.I_post_1y_on.on'] - relevantData['UPDRS.I_pre_off']\n",
    "\n",
    "# PrePost_MedON = improvement preMedON vs post StimON-MedON\n",
    "relevantData['UPDRS.II_PrePost_MedON'] = relevantData['UPDRS.II_post_1y_on.on'] - relevantData['UPDRS.II_pre_on']\n",
    "# PrePost_MedOFF = improvement preMedON vs post StimON-MedON\n",
    "relevantData['UPDRS.II_PrePost_MedOFF'] = relevantData['UPDRS.II_post_1y_on.on'] - relevantData['UPDRS.II_pre_off']\n",
    "\n",
    "# PrePost_MedON = improvement preMedON vs post StimON-MedON\n",
    "relevantData['UPDRS.III_PrePost_MedON'] = relevantData['UPDRS.III_post_1y_on.on'] - relevantData['UPDRS.III_pre_on']\n",
    "# PrePost_MedOFF = improvement preMedON vs post StimON-MedON\n",
    "relevantData['UPDRS.III_PrePost_MedOFF'] = relevantData['UPDRS.III_post_1y_on.on'] - relevantData['UPDRS.III_pre_off']\n",
    "\n",
    "# PrePost_MedON = improvement preMedON vs post StimON-MedON\n",
    "relevantData['UPDRS.IV_PrePost_MedON'] = relevantData['UPDRS.IV_post_1y_on.on'] - relevantData['UPDRS.IV_pre_on']\n",
    "# PrePost_MedOFF = improvement preMedON vs post StimON-MedON\n",
    "relevantData['UPDRS.IV_PrePost_MedOFF'] = relevantData['UPDRS.IV_post_1y_on.on'] - relevantData['UPDRS.IV_pre_off']\n",
    "\n",
    "# relative improvement preMedON vs post StimON-MedON\n",
    "relevantData['UPDRS.I_%PrePost_MedON'] = (relevantData['UPDRS.I_post_1y_on.on'] - relevantData['UPDRS.I_pre_on'])/relevantData['UPDRS.I_pre_on']\n",
    "# relative improvement preMedOFF vs post StimON-MedON\n",
    "relevantData['UPDRS.I_%PrePost_MedOFF'] = (relevantData['UPDRS.I_post_1y_on.on'] - relevantData['UPDRS.I_pre_off'])/relevantData['UPDRS.I_pre_off']\n",
    "\n",
    "# relative improvement preMedON vs post StimON-MedON\n",
    "relevantData['UPDRS.II_%PrePost_MedON'] = (relevantData['UPDRS.II_post_1y_on.on'] - relevantData['UPDRS.II_pre_on'])/relevantData['UPDRS.II_pre_on']\n",
    "# relative improvement preMedOFF vs post StimON-MedON\n",
    "relevantData['UPDRS.II_%PrePost_MedOFF'] = (relevantData['UPDRS.II_post_1y_on.on'] - relevantData['UPDRS.II_pre_off'])/relevantData['UPDRS.II_pre_off']\n",
    "\n",
    "# relative improvement preMedON vs post StimON-MedON\n",
    "relevantData['UPDRS.III_%PrePost_MedON'] = (relevantData['UPDRS.III_post_1y_on.on'] - relevantData['UPDRS.III_pre_on'])/relevantData['UPDRS.III_pre_on']\n",
    "# relative improvement preMedOFF vs post StimON-MedON\n",
    "relevantData['UPDRS.III_%PrePost_MedOFF'] = (relevantData['UPDRS.III_post_1y_on.on'] - relevantData['UPDRS.III_pre_off'])/relevantData['UPDRS.III_pre_off']\n",
    "\n",
    "\n",
    "# relative improvement preMedON vs post StimON-MedON\n",
    "relevantData['UPDRS.IV_%PrePost_MedON'] = (relevantData['UPDRS.IV_post_1y_on.on'] - relevantData['UPDRS.IV_pre_on'])/relevantData['UPDRS.IV_pre_on']\n",
    "# relative improvement preMedOFF vs post StimON-MedON\n",
    "relevantData['UPDRS.IV_%PrePost_MedOFF'] = (relevantData['UPDRS.IV_post_1y_on.on'] - relevantData['UPDRS.IV_pre_off'])/relevantData['UPDRS.IV_pre_off']\n",
    "\n",
    "# relative improvement stimON-medON vs stimOFF-medON\n",
    "relevantData['UPDRS.III_%post_StimEff'] = (relevantData['UPDRS.III_post_1y_on.on'] - relevantData['UPDRS.III_post_1y_off.on'])/relevantData['UPDRS.IV_post_1y_off.on']\n",
    "\n",
    "# LEDD difference pre and post\n",
    "relevantData['LED_PrePostDiff'] = relevantData['LED_post_1y']-relevantData['LED_pre']\n",
    "# relative LEDD difference pre and post\n",
    "relevantData['LED_%PrePostDiff'] = (relevantData['LED_post_1y']-relevantData['LED_pre'])/relevantData['LED_pre']\n",
    "\n",
    "oneYearCols.append('UPDRS.III_post_StimEff')\n",
    "oneYearCols.append('UPDRS.III_post_TotEff')\n",
    "\n",
    "oneYearCols.append('UPDRS.I_PrePost_MedON')\n",
    "oneYearCols.append('UPDRS.I_PrePost_MedOFF')\n",
    "oneYearCols.append('UPDRS.II_PrePost_MedON')\n",
    "oneYearCols.append('UPDRS.II_PrePost_MedOFF')\n",
    "oneYearCols.append('UPDRS.III_PrePost_MedON')\n",
    "oneYearCols.append('UPDRS.III_PrePost_MedOFF')\n",
    "oneYearCols.append('UPDRS.IV_PrePost_MedON')\n",
    "oneYearCols.append('UPDRS.IV_PrePost_MedOFF')\n",
    "\n",
    "oneYearCols.append('UPDRS.I_%PrePost_MedON')\n",
    "oneYearCols.append('UPDRS.I_%PrePost_MedOFF')\n",
    "oneYearCols.append('UPDRS.II_%PrePost_MedON')\n",
    "oneYearCols.append('UPDRS.II_%PrePost_MedOFF')\n",
    "oneYearCols.append('UPDRS.III_%PrePost_MedON')\n",
    "oneYearCols.append('UPDRS.III_%PrePost_MedOFF')\n",
    "oneYearCols.append('UPDRS.IV_%PrePost_MedON')\n",
    "oneYearCols.append('UPDRS.IV_%PrePost_MedOFF')\n",
    "\n",
    "oneYearCols.append('UPDRS.III_%post_StimEff')\n",
    "\n",
    "oneYearCols.append('LED_PrePostDiff')\n",
    "oneYearCols.append('LED_%PrePostDiff')"
   ]
  },
  {
   "cell_type": "code",
   "execution_count": 42,
   "metadata": {},
   "outputs": [
    {
     "data": {
      "text/plain": [
       "Index(['PtNr', 'Check', 'Gender', 'Date_DBS', 'Age_DBS', 'Diagnosis', 'Target',\n",
       "       'Disease_duration', 'Age_disease_onset', 'UPDRS.I_pre_on',\n",
       "       'UPDRS.I_pre_off', 'UPDRS.II_pre_on', 'UPDRS.II_pre_off',\n",
       "       'UPDRS.III_pre_on', 'UPDRS.III_pre_off', 'UPDRS.IV_pre_on',\n",
       "       'UPDRS.IV_pre_off', 'Disease_subtype', 'LED_pre', 'Tremor_pre_on',\n",
       "       'Tremor_pre_off', 'Axial_pre_on', 'Axial_pre_off',\n",
       "       'Bradykinesia_pre_on', 'Bradykinesia_pre_off', 'Rigidity_pre_on',\n",
       "       'Rigidity_pre_off', 'HY_pre_on', 'HY_pre_off', 'LED_post_1y',\n",
       "       'UPDRS.I_post_1y_on.on', 'UPDRS.II_post_1y_on.on',\n",
       "       'UPDRS.III_post_1y_on.on', 'UPDRS.IV_post_1y_on.on', 'HY_post_1y_on.on',\n",
       "       'Tremor_post_1y_on.on', 'Axial_post_1y_on.on',\n",
       "       'Bradykinesia_post_1y_on.on', 'Rigidity_post_1y_on.on',\n",
       "       'UPDRS.I_post_1y_on.off', 'UPDRS.II_post_1y_on.off',\n",
       "       'UPDRS.III_post_1y_on.off', 'UPDRS.IV_post_1y_on.off',\n",
       "       'HY_post_1y_on.off', 'Tremor_post_1y_on.off', 'Axial_post_1y_on.off',\n",
       "       'Bradykinesia_post_1y_on.off', 'Rigidity_post_1y_on.off',\n",
       "       'UPDRS.I_post_1y_off.off', 'UPDRS.II_post_1y_off.off',\n",
       "       'UPDRS.III_post_1y_off.off', 'UPDRS.IV_post_1y_off.off',\n",
       "       'HY_post_1y_off.off', 'Tremor_post_1y_off.off', 'Axial_post_1y_off.off',\n",
       "       'Bradykinesia_post_1y_off.off', 'Rigidity_post_1y_off.off',\n",
       "       'UPDRS.I_post_1y_off.on', 'UPDRS.II_post_1y_off.on',\n",
       "       'UPDRS.III_post_1y_off.on', 'UPDRS.IV_post_1y_off.on',\n",
       "       'HY_post_1y_off.on', 'Tremor_post_1y_off.on', 'Axial_post_1y_off.on',\n",
       "       'Bradykinesia_post_1y_off.on', 'Rigidity_post_1y_off.on',\n",
       "       'UPDRS.I_pre_LEDdif', 'UPDRS.II_pre_LEDdif', 'UPDRS.III_pre_LEDdif',\n",
       "       'UPDRS.IV_pre_LEDdif', 'UPDRS.I_pre_%LEDdif', 'UPDRS.II_pre_%LEDdif',\n",
       "       'UPDRS.III_pre_%LEDdif', 'UPDRS.IV_pre_%LEDdif',\n",
       "       'UPDRS.III_post_StimEff', 'UPDRS.III_post_TotEff',\n",
       "       'UPDRS.I_PrePost_MedON', 'UPDRS.I_PrePost_MedOFF',\n",
       "       'UPDRS.II_PrePost_MedON', 'UPDRS.II_PrePost_MedOFF',\n",
       "       'UPDRS.III_PrePost_MedON', 'UPDRS.III_PrePost_MedOFF',\n",
       "       'UPDRS.IV_PrePost_MedON', 'UPDRS.IV_PrePost_MedOFF',\n",
       "       'UPDRS.I_%PrePost_MedON', 'UPDRS.I_%PrePost_MedOFF',\n",
       "       'UPDRS.II_%PrePost_MedON', 'UPDRS.II_%PrePost_MedOFF',\n",
       "       'UPDRS.III_%PrePost_MedON', 'UPDRS.III_%PrePost_MedOFF',\n",
       "       'UPDRS.IV_%PrePost_MedON', 'UPDRS.IV_%PrePost_MedOFF',\n",
       "       'UPDRS.III_%post_StimEff', 'LED_PrePostDiff', 'LED_%PrePostDiff'],\n",
       "      dtype='object')"
      ]
     },
     "execution_count": 42,
     "metadata": {},
     "output_type": "execute_result"
    }
   ],
   "source": [
    "relevantData.keys()"
   ]
  },
  {
   "cell_type": "code",
   "execution_count": 6,
   "metadata": {},
   "outputs": [],
   "source": [
    "## check for combining missing values\n",
    "\n",
    "def missingDataCombis(feat1,feat2):\n",
    "    missings = 0\n",
    "    for pt in range(len(relevantData[feat1])):\n",
    "        if np.isnan(relevantData[feat1][pt]) == True:\n",
    "            missings = missings + 1\n",
    "        else:\n",
    "            if np.isnan(relevantData[feat2][pt]) == True:\n",
    "                missings = missings + 1\n",
    "    return print(str(feat1),' OR ',str(feat2),' is missing in ',missings,' subjects. N = ',len(relevantData[feat1])-missings)"
   ]
  },
  {
   "cell_type": "code",
   "execution_count": 7,
   "metadata": {
    "scrolled": true
   },
   "outputs": [
    {
     "name": "stdout",
     "output_type": "stream",
     "text": [
      "UPDRS.III_pre_on  OR  UPDRS.III_pre_off  is missing in  24  subjects. N =  103\n",
      "UPDRS.III_pre_on  OR  UPDRS.III_post_1y_on.on  is missing in  29  subjects. N =  98\n",
      "UPDRS.III_pre_off  OR  UPDRS.III_post_1y_on.on  is missing in  36  subjects. N =  91\n",
      "UPDRS.III_pre_off  OR  UPDRS.III_post_1y_on.off  is missing in  95  subjects. N =  32\n",
      "UPDRS.III_post_1y_off.off  OR  UPDRS.III_post_1y_on.on  is missing in  89  subjects. N =  38\n",
      "UPDRS.III_post_1y_off.on  OR  UPDRS.III_post_1y_on.on  is missing in  95  subjects. N =  32\n",
      "LED_pre  OR  LED_post_1y  is missing in  32  subjects. N =  95\n"
     ]
    }
   ],
   "source": [
    "missingDataCombis('UPDRS.III_pre_on','UPDRS.III_pre_off')\n",
    "missingDataCombis('UPDRS.III_pre_on','UPDRS.III_post_1y_on.on')\n",
    "missingDataCombis('UPDRS.III_pre_off','UPDRS.III_post_1y_on.on')\n",
    "missingDataCombis('UPDRS.III_pre_off','UPDRS.III_post_1y_on.off')\n",
    "missingDataCombis('UPDRS.III_post_1y_off.off','UPDRS.III_post_1y_on.on')\n",
    "missingDataCombis('UPDRS.III_post_1y_off.on','UPDRS.III_post_1y_on.on')\n",
    "\n",
    "\n",
    "\n",
    "missingDataCombis('LED_pre','LED_post_1y')"
   ]
  },
  {
   "cell_type": "markdown",
   "metadata": {},
   "source": [
    "Possibilities to use for outcome value:\n",
    "* improvement post vs pre:\n",
    "    - post_on.on vs pre_on (n = 98)\n",
    "    - post_on.on vs pre_off (n = 91)\n",
    "    - post_on.off vs pre_off (n = 32)\n",
    "* improvement post on vs post off\n",
    "    - post_on.on vs post_off.off (n = 38)\n",
    "    - post_on.on vs post_off.on (n=32)\n",
    "\n",
    "Most logical choice would be:\n",
    "- post_on.on vs pre_on (n = 98)\n",
    "- post_on.on vs pre_off (n = 91)"
   ]
  },
  {
   "cell_type": "code",
   "execution_count": 43,
   "metadata": {},
   "outputs": [],
   "source": [
    "## create new database with population without missing outcome\n",
    "\n",
    "# population without missing post_on.on vs pre_on (n = 98)\n",
    "dataOnOnvsOn = relevantData.dropna(subset=['UPDRS.III_PrePost_MedON'])\n",
    "# population without missing post_on.on vs pre_off (n = 91)\n",
    "dataOnOnvsOff = relevantData.dropna(subset=['UPDRS.III_PrePost_MedOFF'])\n",
    "\n",
    "# check total missings within data\n",
    "#print(dataOnOnvsOn.isna().sum())\n"
   ]
  },
  {
   "cell_type": "code",
   "execution_count": 44,
   "metadata": {
    "scrolled": false
   },
   "outputs": [
    {
     "data": {
      "text/plain": [
       "Index(['PtNr', 'Check', 'Gender', 'Date_DBS', 'Age_DBS', 'Diagnosis', 'Target',\n",
       "       'Disease_duration', 'Age_disease_onset', 'UPDRS.I_pre_on',\n",
       "       'UPDRS.I_pre_off', 'UPDRS.II_pre_on', 'UPDRS.II_pre_off',\n",
       "       'UPDRS.III_pre_on', 'UPDRS.III_pre_off', 'UPDRS.IV_pre_on',\n",
       "       'UPDRS.IV_pre_off', 'Disease_subtype', 'LED_pre', 'Tremor_pre_on',\n",
       "       'Tremor_pre_off', 'Axial_pre_on', 'Axial_pre_off',\n",
       "       'Bradykinesia_pre_on', 'Bradykinesia_pre_off', 'Rigidity_pre_on',\n",
       "       'Rigidity_pre_off', 'HY_pre_on', 'HY_pre_off', 'LED_post_1y',\n",
       "       'UPDRS.I_post_1y_on.on', 'UPDRS.II_post_1y_on.on',\n",
       "       'UPDRS.III_post_1y_on.on', 'UPDRS.IV_post_1y_on.on', 'HY_post_1y_on.on',\n",
       "       'Tremor_post_1y_on.on', 'Axial_post_1y_on.on',\n",
       "       'Bradykinesia_post_1y_on.on', 'Rigidity_post_1y_on.on',\n",
       "       'UPDRS.I_post_1y_on.off', 'UPDRS.II_post_1y_on.off',\n",
       "       'UPDRS.III_post_1y_on.off', 'UPDRS.IV_post_1y_on.off',\n",
       "       'HY_post_1y_on.off', 'Tremor_post_1y_on.off', 'Axial_post_1y_on.off',\n",
       "       'Bradykinesia_post_1y_on.off', 'Rigidity_post_1y_on.off',\n",
       "       'UPDRS.I_post_1y_off.off', 'UPDRS.II_post_1y_off.off',\n",
       "       'UPDRS.III_post_1y_off.off', 'UPDRS.IV_post_1y_off.off',\n",
       "       'HY_post_1y_off.off', 'Tremor_post_1y_off.off', 'Axial_post_1y_off.off',\n",
       "       'Bradykinesia_post_1y_off.off', 'Rigidity_post_1y_off.off',\n",
       "       'UPDRS.I_post_1y_off.on', 'UPDRS.II_post_1y_off.on',\n",
       "       'UPDRS.III_post_1y_off.on', 'UPDRS.IV_post_1y_off.on',\n",
       "       'HY_post_1y_off.on', 'Tremor_post_1y_off.on', 'Axial_post_1y_off.on',\n",
       "       'Bradykinesia_post_1y_off.on', 'Rigidity_post_1y_off.on',\n",
       "       'UPDRS.I_pre_LEDdif', 'UPDRS.II_pre_LEDdif', 'UPDRS.III_pre_LEDdif',\n",
       "       'UPDRS.IV_pre_LEDdif', 'UPDRS.I_pre_%LEDdif', 'UPDRS.II_pre_%LEDdif',\n",
       "       'UPDRS.III_pre_%LEDdif', 'UPDRS.IV_pre_%LEDdif',\n",
       "       'UPDRS.III_post_StimEff', 'UPDRS.III_post_TotEff',\n",
       "       'UPDRS.I_PrePost_MedON', 'UPDRS.I_PrePost_MedOFF',\n",
       "       'UPDRS.II_PrePost_MedON', 'UPDRS.II_PrePost_MedOFF',\n",
       "       'UPDRS.III_PrePost_MedON', 'UPDRS.III_PrePost_MedOFF',\n",
       "       'UPDRS.IV_PrePost_MedON', 'UPDRS.IV_PrePost_MedOFF',\n",
       "       'UPDRS.I_%PrePost_MedON', 'UPDRS.I_%PrePost_MedOFF',\n",
       "       'UPDRS.II_%PrePost_MedON', 'UPDRS.II_%PrePost_MedOFF',\n",
       "       'UPDRS.III_%PrePost_MedON', 'UPDRS.III_%PrePost_MedOFF',\n",
       "       'UPDRS.IV_%PrePost_MedON', 'UPDRS.IV_%PrePost_MedOFF',\n",
       "       'UPDRS.III_%post_StimEff', 'LED_PrePostDiff', 'LED_%PrePostDiff'],\n",
       "      dtype='object')"
      ]
     },
     "execution_count": 44,
     "metadata": {},
     "output_type": "execute_result"
    }
   ],
   "source": [
    "dataOnOnvsOn.keys()"
   ]
  },
  {
   "cell_type": "code",
   "execution_count": 17,
   "metadata": {
    "scrolled": false
   },
   "outputs": [
    {
     "name": "stdout",
     "output_type": "stream",
     "text": [
      "PtNr has 0 missing\n",
      "Check has 0 missing\n",
      "Gender has 1 missing\n",
      "Date_DBS has 0 missing\n",
      "Age_DBS has 0 missing\n",
      "Diagnosis has 1 missing\n",
      "Target has 0 missing\n",
      "Disease_duration has 1 missing\n",
      "Age_disease_onset has 0 missing\n",
      "UPDRS.I_pre_on has 18 missing\n",
      "UPDRS.I_pre_off has 18 missing\n",
      "UPDRS.II_pre_on has 5 missing\n",
      "UPDRS.II_pre_off has 9 missing\n",
      "UPDRS.III_pre_on has 0 missing\n",
      "UPDRS.III_pre_off has 10 missing\n",
      "UPDRS.IV_pre_on has 8 missing\n",
      "UPDRS.IV_pre_off has 20 missing\n",
      "Disease_subtype has 24 missing\n",
      "LED_pre has 3 missing\n",
      "Tremor_pre_on has 0 missing\n",
      "Tremor_pre_off has 12 missing\n",
      "Axial_pre_on has 0 missing\n",
      "Axial_pre_off has 12 missing\n",
      "Bradykinesia_pre_on has 0 missing\n",
      "Bradykinesia_pre_off has 12 missing\n",
      "Rigidity_pre_on has 0 missing\n",
      "Rigidity_pre_off has 12 missing\n",
      "HY_pre_on has 28 missing\n",
      "HY_pre_off has 44 missing\n",
      "LED_post_1y has 8 missing\n",
      "UPDRS.I_post_1y_on.on has 3 missing\n",
      "UPDRS.II_post_1y_on.on has 3 missing\n",
      "UPDRS.III_post_1y_on.on has 0 missing\n",
      "UPDRS.IV_post_1y_on.on has 5 missing\n",
      "HY_post_1y_on.on has 19 missing\n",
      "Tremor_post_1y_on.on has 0 missing\n",
      "Axial_post_1y_on.on has 0 missing\n",
      "Bradykinesia_post_1y_on.on has 0 missing\n",
      "Rigidity_post_1y_on.on has 0 missing\n",
      "UPDRS.I_post_1y_on.off has 67 missing\n",
      "UPDRS.II_post_1y_on.off has 67 missing\n",
      "UPDRS.III_post_1y_on.off has 65 missing\n",
      "UPDRS.IV_post_1y_on.off has 98 missing\n",
      "HY_post_1y_on.off has 77 missing\n",
      "Tremor_post_1y_on.off has 65 missing\n",
      "Axial_post_1y_on.off has 65 missing\n",
      "Bradykinesia_post_1y_on.off has 65 missing\n",
      "Rigidity_post_1y_on.off has 65 missing\n",
      "UPDRS.I_post_1y_off.off has 92 missing\n",
      "UPDRS.II_post_1y_off.off has 65 missing\n",
      "UPDRS.III_post_1y_off.off has 64 missing\n",
      "UPDRS.IV_post_1y_off.off has 93 missing\n",
      "HY_post_1y_off.off has 67 missing\n",
      "Tremor_post_1y_off.off has 64 missing\n",
      "Axial_post_1y_off.off has 64 missing\n",
      "Bradykinesia_post_1y_off.off has 64 missing\n",
      "Rigidity_post_1y_off.off has 64 missing\n",
      "UPDRS.I_post_1y_off.on has 93 missing\n",
      "UPDRS.II_post_1y_off.on has 70 missing\n",
      "UPDRS.III_post_1y_off.on has 69 missing\n",
      "UPDRS.IV_post_1y_off.on has 82 missing\n",
      "HY_post_1y_off.on has 74 missing\n",
      "Tremor_post_1y_off.on has 69 missing\n",
      "Axial_post_1y_off.on has 69 missing\n",
      "Bradykinesia_post_1y_off.on has 69 missing\n",
      "Rigidity_post_1y_off.on has 69 missing\n",
      "UPDRS.I_pre_LEDdif has 34 missing\n",
      "UPDRS.II_pre_LEDdif has 14 missing\n",
      "UPDRS.III_pre_LEDdif has 10 missing\n",
      "UPDRS.IV_pre_LEDdif has 26 missing\n",
      "UPDRS.I_pre_%LEDdif has 42 missing\n",
      "UPDRS.II_pre_%LEDdif has 14 missing\n",
      "UPDRS.III_pre_%LEDdif has 10 missing\n",
      "UPDRS.IV_pre_%LEDdif has 28 missing\n",
      "UPDRS.III_post_StimEff has 69 missing\n",
      "UPDRS.III_post_TotEff has 64 missing\n",
      "UPDRS.III_PrePost_MedON has 0 missing\n",
      "UPDRS.III_PrePost_MedOFF has 10 missing\n",
      "UPDRS.III_%PrePost_MedON has 0 missing\n",
      "UPDRS.III_%PrePost_MedOFF has 10 missing\n",
      "UPDRS.III_%post_StimEff has 69 missing\n",
      "LED_PrePostDiff has 10 missing\n",
      "LED_%PrePostDiff has 13 missing\n"
     ]
    }
   ],
   "source": [
    "for key in dataOnOnvsOn.keys():\n",
    "    print('%s has %d missing' % (key, dataOnOnvsOn[key].isna().sum()))"
   ]
  },
  {
   "cell_type": "code",
   "execution_count": 45,
   "metadata": {},
   "outputs": [],
   "source": [
    "dataOnOnvsOn.to_csv('dataOnOnvsOn.csv',index=False)"
   ]
  },
  {
   "cell_type": "code",
   "execution_count": 47,
   "metadata": {},
   "outputs": [],
   "source": [
    "writer = pd.ExcelWriter('dataOnOnvsOn.xlsx')\n",
    "dataOnOnvsOn.to_excel(writer,'dataStart')\n",
    "#df2.to_excel(writer,'Sheet2')\n",
    "writer.save()"
   ]
  },
  {
   "cell_type": "code",
   "execution_count": 22,
   "metadata": {},
   "outputs": [],
   "source": [
    "\n",
    "\n",
    "x = dataOnOnvsOn[['PtNr', 'Check', 'Gender', 'Date_DBS', 'Age_DBS', 'Diagnosis', 'Target',\n",
    "       'Disease_duration', 'Age_disease_onset', 'UPDRS.I_pre_on',\n",
    "       'UPDRS.I_pre_off', 'UPDRS.II_pre_on', 'UPDRS.II_pre_off',\n",
    "       'UPDRS.III_pre_on', 'UPDRS.III_pre_off', 'UPDRS.IV_pre_on',\n",
    "       'UPDRS.IV_pre_off', 'Disease_subtype', 'LED_pre', 'Tremor_pre_on',\n",
    "       'Tremor_pre_off', 'Axial_pre_on', 'Axial_pre_off',\n",
    "       'Bradykinesia_pre_on', 'Bradykinesia_pre_off', 'Rigidity_pre_on',\n",
    "       'Rigidity_pre_off', 'HY_pre_on', 'HY_pre_off']].values\n",
    "\n",
    "y = dataOnOnvsOn[['UPDRS.III_%PrePost_MedON','UPDRS.IV_%PrePost_MedON','LED_%PrePostDiff']].values # .values excludes all panda's method"
   ]
  },
  {
   "cell_type": "code",
   "execution_count": 10,
   "metadata": {},
   "outputs": [
    {
     "name": "stdout",
     "output_type": "stream",
     "text": [
      "Within dataOnOnvsOff (n= 91 ): \n",
      "  Age_DBS has  0  missings \n",
      "  Disease_duration has  0  missings \n",
      "  Age_disease_onset has  0  missings \n",
      "  LED_pre has  3  missings \n",
      "  LED_post_1y has  7  missings \n",
      "  UPDRS.I_pre_LEDdif has  28  missings \n",
      "  UPDRS.II_pre_LEDdif has  8  missings \n",
      "  UPDRS.III_pre_LEDdif has  3  missings \n",
      "  UPDRS.IV_pre_LEDdif has  19  missings \n",
      "  UPDRS.III_pre_off has  0  missings \n",
      "  UPDRS.III_post_1y_off.off has  59  missings \n",
      "  UPDRS.III_post_1y_off.on has  64  missings \n",
      "  UPDRS.III_post_1y_on.off has  60  missings \n",
      "  UPDRS.III_post_1y_on.on has  0  missings\n"
     ]
    }
   ],
   "source": [
    "print('Within dataOnOnvsOff (n=',len(dataOnOnvsOff),'): \\n',' ''Age_DBS'' has ',dataOnOnvsOff['Age_DBS'].isna().sum(),' missings'\n",
    "     ,'\\n',' ''Disease_duration'' has ',dataOnOnvsOff['Disease_duration'].isna().sum(),' missings'\n",
    "      ,'\\n',' ''Age_disease_onset'' has ',dataOnOnvsOff['Age_disease_onset'].isna().sum(),' missings'\n",
    "      ,'\\n',' ''LED_pre'' has ',dataOnOnvsOff['LED_pre'].isna().sum(),' missings'\n",
    "      ,'\\n',' ''LED_post_1y'' has ',dataOnOnvsOff['LED_post_1y'].isna().sum(),' missings'\n",
    "      ,'\\n',' ''UPDRS.I_pre_LEDdif'' has ',dataOnOnvsOff['UPDRS.I_pre_LEDdif'].isna().sum(),' missings'\n",
    "      ,'\\n',' ''UPDRS.II_pre_LEDdif'' has ',dataOnOnvsOff['UPDRS.II_pre_LEDdif'].isna().sum(),' missings'\n",
    "      ,'\\n',' ''UPDRS.III_pre_LEDdif'' has ',dataOnOnvsOff['UPDRS.III_pre_LEDdif'].isna().sum(),' missings'\n",
    "      ,'\\n',' ''UPDRS.IV_pre_LEDdif'' has ',dataOnOnvsOff['UPDRS.IV_pre_LEDdif'].isna().sum(),' missings'\n",
    "      ,'\\n',' ''UPDRS.III_pre_off'' has ',dataOnOnvsOff['UPDRS.III_pre_off'].isna().sum(),' missings'\n",
    "      ,'\\n',' ''UPDRS.III_post_1y_off.off'' has ',dataOnOnvsOff['UPDRS.III_post_1y_off.off'].isna().sum(),' missings'\n",
    "      ,'\\n',' ''UPDRS.III_post_1y_off.on'' has ',dataOnOnvsOff['UPDRS.III_post_1y_off.on'].isna().sum(),' missings'\n",
    "      ,'\\n',' ''UPDRS.III_post_1y_on.off'' has ',dataOnOnvsOff['UPDRS.III_post_1y_on.off'].isna().sum(),' missings'\n",
    "      ,'\\n',' ''UPDRS.III_post_1y_on.on'' has ',dataOnOnvsOff['UPDRS.III_post_1y_on.on'].isna().sum(),' missings'\n",
    "     )"
   ]
  },
  {
   "cell_type": "code",
   "execution_count": 11,
   "metadata": {},
   "outputs": [],
   "source": [
    "def PreMissings(data):\n",
    "    print('n =',len(data))\n",
    "    for cols in generalCols:\n",
    "        print(cols,' has ',data[cols].isna().sum(),' missings')\n",
    "    for col in preCols:\n",
    "        print(col,' has ',data[col].isna().sum(),' missings')"
   ]
  },
  {
   "cell_type": "code",
   "execution_count": 12,
   "metadata": {
    "scrolled": true
   },
   "outputs": [
    {
     "name": "stdout",
     "output_type": "stream",
     "text": [
      "n = 98\n",
      "PtNr  has  0  missings\n",
      "Check  has  0  missings\n",
      "Gender  has  1  missings\n",
      "Date_DBS  has  0  missings\n",
      "Age_DBS  has  0  missings\n",
      "Diagnosis  has  1  missings\n",
      "Target  has  0  missings\n",
      "Disease_duration  has  1  missings\n",
      "Age_disease_onset  has  0  missings\n",
      "UPDRS.I_pre_on  has  18  missings\n",
      "UPDRS.I_pre_off  has  18  missings\n",
      "UPDRS.II_pre_on  has  5  missings\n",
      "UPDRS.II_pre_off  has  9  missings\n",
      "UPDRS.III_pre_on  has  0  missings\n",
      "UPDRS.III_pre_off  has  10  missings\n",
      "UPDRS.IV_pre_on  has  8  missings\n",
      "UPDRS.IV_pre_off  has  20  missings\n",
      "Disease_subtype  has  24  missings\n",
      "LED_pre  has  3  missings\n",
      "Tremor_pre_on  has  0  missings\n",
      "Tremor_pre_off  has  12  missings\n",
      "Axial_pre_on  has  0  missings\n",
      "Axial_pre_off  has  12  missings\n",
      "Bradykinesia_pre_on  has  0  missings\n",
      "Bradykinesia_pre_off  has  12  missings\n",
      "Rigidity_pre_on  has  0  missings\n",
      "Rigidity_pre_off  has  12  missings\n",
      "HY_pre_on  has  28  missings\n",
      "HY_pre_off  has  44  missings\n",
      "UPDRS.I_pre_LEDdif  has  34  missings\n",
      "UPDRS.II_pre_LEDdif  has  14  missings\n",
      "UPDRS.III_pre_LEDdif  has  10  missings\n",
      "UPDRS.IV_pre_LEDdif  has  26  missings\n",
      "UPDRS.I_pre_%LEDdif  has  42  missings\n",
      "UPDRS.II_pre_%LEDdif  has  14  missings\n",
      "UPDRS.III_pre_%LEDdif  has  10  missings\n",
      "UPDRS.IV_pre_%LEDdif  has  28  missings\n"
     ]
    }
   ],
   "source": [
    "PreMissings(dataOnOnvsOn)"
   ]
  },
  {
   "cell_type": "code",
   "execution_count": 46,
   "metadata": {},
   "outputs": [
    {
     "data": {
      "text/plain": [
       "0   2004-05-10\n",
       "2   2004-11-22\n",
       "3   2009-11-16\n",
       "4   2009-11-30\n",
       "5   2003-02-03\n",
       "Name: Date_DBS, dtype: datetime64[ns]"
      ]
     },
     "execution_count": 46,
     "metadata": {},
     "output_type": "execute_result"
    }
   ],
   "source": [
    "dataOnOnvsOn['Date_DBS'][:5]"
   ]
  },
  {
   "cell_type": "code",
   "execution_count": 13,
   "metadata": {
    "scrolled": false
   },
   "outputs": [
    {
     "name": "stdout",
     "output_type": "stream",
     "text": [
      "n = 91\n",
      "PtNr  has  0  missings\n",
      "Check  has  0  missings\n",
      "Gender  has  1  missings\n",
      "Date_DBS  has  0  missings\n",
      "Age_DBS  has  0  missings\n",
      "Diagnosis  has  1  missings\n",
      "Target  has  0  missings\n",
      "Disease_duration  has  0  missings\n",
      "Age_disease_onset  has  0  missings\n",
      "UPDRS.I_pre_on  has  21  missings\n",
      "UPDRS.I_pre_off  has  9  missings\n",
      "UPDRS.II_pre_on  has  8  missings\n",
      "UPDRS.II_pre_off  has  0  missings\n",
      "UPDRS.III_pre_on  has  3  missings\n",
      "UPDRS.III_pre_off  has  0  missings\n",
      "UPDRS.IV_pre_on  has  11  missings\n",
      "UPDRS.IV_pre_off  has  10  missings\n",
      "Disease_subtype  has  15  missings\n",
      "LED_pre  has  3  missings\n",
      "Tremor_pre_on  has  3  missings\n",
      "Tremor_pre_off  has  2  missings\n",
      "Axial_pre_on  has  3  missings\n",
      "Axial_pre_off  has  2  missings\n",
      "Bradykinesia_pre_on  has  3  missings\n",
      "Bradykinesia_pre_off  has  2  missings\n",
      "Rigidity_pre_on  has  3  missings\n",
      "Rigidity_pre_off  has  2  missings\n",
      "HY_pre_on  has  28  missings\n",
      "HY_pre_off  has  36  missings\n",
      "UPDRS.I_pre_LEDdif  has  28  missings\n",
      "UPDRS.II_pre_LEDdif  has  8  missings\n",
      "UPDRS.III_pre_LEDdif  has  3  missings\n",
      "UPDRS.IV_pre_LEDdif  has  19  missings\n",
      "UPDRS.I_pre_%LEDdif  has  36  missings\n",
      "UPDRS.II_pre_%LEDdif  has  8  missings\n",
      "UPDRS.III_pre_%LEDdif  has  3  missings\n",
      "UPDRS.IV_pre_%LEDdif  has  21  missings\n"
     ]
    }
   ],
   "source": [
    "PreMissings(dataOnOnvsOff)"
   ]
  },
  {
   "cell_type": "code",
   "execution_count": 251,
   "metadata": {},
   "outputs": [
    {
     "data": {
      "text/plain": [
       "98"
      ]
     },
     "execution_count": 251,
     "metadata": {},
     "output_type": "execute_result"
    }
   ],
   "source": [
    "len(dataOnOnvsOn['UPDRS.III_%PrePost_MedON'])"
   ]
  },
  {
   "cell_type": "code",
   "execution_count": 14,
   "metadata": {
    "scrolled": false
   },
   "outputs": [
    {
     "name": "stdout",
     "output_type": "stream",
     "text": [
      "0.13260337514761897\n",
      "-0.4855464608733502\n",
      "-0.48788404190160006\n",
      "0.13260337514761897\n",
      "-517.2045454545455\n",
      "inf\n"
     ]
    }
   ],
   "source": [
    "print(np.mean(dataOnOnvsOn['UPDRS.III_%PrePost_MedON']))\n",
    "print(np.mean(dataOnOnvsOff['UPDRS.III_%PrePost_MedOFF']))\n",
    "print(np.mean(relevantData['UPDRS.III_%post_StimEff']))\n",
    "\n",
    "print(np.mean(dataOnOnvsOn['UPDRS.III_%PrePost_MedON']))\n",
    "print(np.mean(dataOnOnvsOn['LED_PrePostDiff']))\n",
    "print(np.mean(dataOnOnvsOn['LED_%PrePostDiff']))\n",
    "\n",
    "\n",
    "#print(dataOnOnvsOn['LED_PrePostDiff']) # infinity because patients do not use levodopa.\n",
    "# to analyze effect on LED, exclude all patients with LED =0 (these are no missings), new subgroup LED(+)?\n",
    "\n",
    "\n",
    "\n",
    "\n"
   ]
  },
  {
   "cell_type": "code",
   "execution_count": 312,
   "metadata": {},
   "outputs": [
    {
     "data": {
      "text/plain": [
       "-1.0"
      ]
     },
     "execution_count": 312,
     "metadata": {},
     "output_type": "execute_result"
    }
   ],
   "source": [
    "np.min(dataOnOnvsOn['UPDRS.III_%PrePost_MedON']) # find max and see why it is 1300%"
   ]
  },
  {
   "cell_type": "code",
   "execution_count": 319,
   "metadata": {},
   "outputs": [
    {
     "name": "stdout",
     "output_type": "stream",
     "text": [
      "2\n"
     ]
    }
   ],
   "source": [
    "x = [5,1,7,0,3,4]\n",
    "print(x.index(7))"
   ]
  },
  {
   "cell_type": "code",
   "execution_count": 462,
   "metadata": {},
   "outputs": [
    {
     "name": "stdout",
     "output_type": "stream",
     "text": [
      "[13.0, 3.8333333333333335, 1.9166666666666667, 1.9, 1.5925925925925926, 1.4545454545454546, 1.32, 1.2857142857142858, 1.2222222222222223, 1.1515151515151516]\n",
      "(array([65]),)\n",
      "13.0\n",
      "(array([93]),)\n",
      "120   -0.789474\n",
      "121    0.068966\n",
      "122    3.833333\n",
      "123    0.523810\n",
      "Name: UPDRS.III_%PrePost_MedON, dtype: float64\n",
      "3.8333333333333335\n",
      "92\n",
      "14.0\n",
      "1.0\n",
      "123\n",
      "29.0\n",
      "6.0\n"
     ]
    }
   ],
   "source": [
    "print((sorted(dataOnOnvsOn['UPDRS.III_%PrePost_MedON'], reverse=True))[:10])\n",
    "print(np.where(dataOnOnvsOn['UPDRS.III_%PrePost_MedON'] == np.max(dataOnOnvsOn['UPDRS.III_%PrePost_MedON']))) # position 65 -> ID 91\n",
    "print(dataOnOnvsOn['UPDRS.III_%PrePost_MedON'][91]) # highest value is ID 91\n",
    "print(np.where(dataOnOnvsOn['UPDRS.III_%PrePost_MedON'] == 3.8333333333333335)) # position 93\n",
    "print(dataOnOnvsOn['UPDRS.III_%PrePost_MedON'][91:95]) # position 93 (3.8333) -> ID 122\n",
    "print(dataOnOnvsOn['UPDRS.III_%PrePost_MedON'][122]) # second highest value is ID 122\n",
    "\n",
    "print(dataOnOnvsOn['PtNr'][91]) # position 91 is PtNr 92\n",
    "print(relevantData['UPDRS.III_post_1y_on.on'][91]) # post III score is 14\n",
    "print(relevantData['UPDRS.III_pre_on'][91]) # pre III score is 1\n",
    "\n",
    "print(dataOnOnvsOn['PtNr'][122]) # position 122 is PtNr 123\n",
    "print(relevantData['UPDRS.III_post_1y_on.on'][122]) # post III score is 29\n",
    "print(relevantData['UPDRS.III_pre_on'][122]) # pre III score is 6\n",
    "\n",
    "\n",
    "\n",
    "\n",
    "\n"
   ]
  },
  {
   "cell_type": "code",
   "execution_count": 389,
   "metadata": {},
   "outputs": [
    {
     "name": "stdout",
     "output_type": "stream",
     "text": [
      "122    1.0\n",
      "Name: UPDRS.IV_post_1y_on.on, dtype: float64\n"
     ]
    }
   ],
   "source": [
    "print(dataOnOnvsOn[dataOnOnvsOn['PtNr']==123]['UPDRS.IV_post_1y_on.on'])"
   ]
  },
  {
   "cell_type": "code",
   "execution_count": 406,
   "metadata": {},
   "outputs": [
    {
     "name": "stdout",
     "output_type": "stream",
     "text": [
      "91    329.0\n",
      "Name: LED_post_1y, dtype: float64\n"
     ]
    }
   ],
   "source": [
    "print(dataOnOnvsOn[dataOnOnvsOn['PtNr']==92]['LED_post_1y'])"
   ]
  },
  {
   "cell_type": "markdown",
   "metadata": {},
   "source": [
    "Analysis outliers pre ON vs post ON.ON\n",
    "\n",
    "\n",
    "#1: row 91, PtNr 92:\n",
    "I pre off: 1\n",
    "I pre on: 0\n",
    "II pre off: 8\n",
    "II pre on: 0\n",
    "III pre off: 20.5  --> extremely high respons on LED preop (95%), causes large increasing of III post vs preON\n",
    "III pre on: 1\n",
    "IV pre off: 1\n",
    "IV pre on: 5.5\n",
    "LED_pre: 1260\n",
    "\n",
    "I post on.on: 4\n",
    "II post on.on: 9\n",
    "III post on.on: 14 (other III's NaN)\n",
    "IV post on.on: 8.5\n",
    "LED post: 329\n",
    "\n",
    "#2: row 122, PtNr 123:\n",
    "I pre off: NaN\n",
    "I pre on: Nan\n",
    "II pre off: 17.5\n",
    "II pre on: 0\n",
    "III pre off: 54 --> extremely high respons on LED preop (89%), causes large increasing of III post vs preON\n",
    "III pre on: 6\n",
    "IV pre off: Nan\n",
    "IV pre on: Nan\n",
    "LED_pre: 1438\n",
    "\n",
    "I post on.on: 4\n",
    "II post on.on: 12\n",
    "III post on.on: 29 (other III's Nan)\n",
    "IV post : 1\n",
    "LED post: 375"
   ]
  },
  {
   "cell_type": "code",
   "execution_count": 445,
   "metadata": {},
   "outputs": [
    {
     "name": "stdout",
     "output_type": "stream",
     "text": [
      "96\n",
      "1.9166666666666667\n"
     ]
    },
    {
     "data": {
      "text/plain": [
       "(array([12., 18., 23., 17.,  5., 10.,  3.,  4.,  2.,  2.]),\n",
       " array([-1.        , -0.70833333, -0.41666667, -0.125     ,  0.16666667,\n",
       "         0.45833333,  0.75      ,  1.04166667,  1.33333333,  1.625     ,\n",
       "         1.91666667]),\n",
       " <a list of 10 Patch objects>)"
      ]
     },
     "execution_count": 445,
     "metadata": {},
     "output_type": "execute_result"
    },
    {
     "data": {
      "image/png": "[encoded data removed]",
      "text/plain": [
       "<matplotlib.figure.Figure at 0x1c1649e898>"
      ]
     },
     "metadata": {},
     "output_type": "display_data"
    }
   ],
   "source": [
    "# subset ON comparison, without outliers PtNr s 92 and 123\n",
    "OnDelOutl = dataOnOnvsOn[dataOnOnvsOn['PtNr'] != (92)]\n",
    "OnDelOutl = OnDelOutl[OnDelOutl['PtNr'] != (123)]\n",
    "print(len(OnDelOutl['UPDRS.III_%PrePost_MedON']))\n",
    "print(np.max(OnDelOutl['UPDRS.III_%PrePost_MedON']))\n",
    "plt.hist(OnDelOutl['UPDRS.III_%PrePost_MedON'])"
   ]
  },
  {
   "cell_type": "code",
   "execution_count": 444,
   "metadata": {
    "scrolled": false
   },
   "outputs": [
    {
     "data": {
      "text/plain": [
       "(array([12., 18., 23., 17.,  5., 10.,  3.,  4.,  2.,  2.]),\n",
       " array([-1.        , -0.70833333, -0.41666667, -0.125     ,  0.16666667,\n",
       "         0.45833333,  0.75      ,  1.04166667,  1.33333333,  1.625     ,\n",
       "         1.91666667]),\n",
       " <a list of 10 Patch objects>)"
      ]
     },
     "execution_count": 444,
     "metadata": {},
     "output_type": "execute_result"
    },
    {
     "data": {
      "image/png": "[encoded data removed]",
      "text/plain": [
       "<matplotlib.figure.Figure at 0x1c164c79e8>"
      ]
     },
     "metadata": {},
     "output_type": "display_data"
    }
   ],
   "source": [
    "plt.hist(dataOnOnvsOn['UPDRS.III_%PrePost_MedON'])\n",
    "plt.hist(OnDelOutl['UPDRS.III_%PrePost_MedON'])"
   ]
  },
  {
   "cell_type": "code",
   "execution_count": 408,
   "metadata": {},
   "outputs": [
    {
     "name": "stdout",
     "output_type": "stream",
     "text": [
      "0.46153846153846156\n",
      "-1.0\n"
     ]
    },
    {
     "data": {
      "text/plain": [
       "(array([ 9., 16., 15., 21., 12.,  7.,  4.,  2.,  3.,  2.]),\n",
       " array([-1.        , -0.85384615, -0.70769231, -0.56153846, -0.41538462,\n",
       "        -0.26923077, -0.12307692,  0.02307692,  0.16923077,  0.31538462,\n",
       "         0.46153846]),\n",
       " <a list of 10 Patch objects>)"
      ]
     },
     "execution_count": 408,
     "metadata": {},
     "output_type": "execute_result"
    },
    {
     "data": {
      "image/png": "[encoded data removed]",
      "text/plain": [
       "<matplotlib.figure.Figure at 0x1c0c80c668>"
      ]
     },
     "metadata": {},
     "output_type": "display_data"
    }
   ],
   "source": [
    "print(np.max(dataOnOnvsOff['UPDRS.III_%PrePost_MedOFF'])) # max = 0.46\n",
    "print(np.min(dataOnOnvsOff['UPDRS.III_%PrePost_MedOFF'])) # min = -1.0 -> 100% decrease, logical minimal\n",
    "plt.hist(dataOnOnvsOff['UPDRS.III_%PrePost_MedOFF']) # looks quiet gaussian, skewed too left, negative -> III decrease\n",
    "\n"
   ]
  },
  {
   "cell_type": "code",
   "execution_count": 488,
   "metadata": {
    "scrolled": true
   },
   "outputs": [
    {
     "name": "stdout",
     "output_type": "stream",
     "text": [
      "[750.0, 625.0, 368.0, 331.0, 267.0, 199.0, 170.0, 144.0, 70.0, 62.5]\n",
      "(array([67]),)\n"
     ]
    },
    {
     "data": {
      "text/plain": [
       "750.0"
      ]
     },
     "execution_count": 488,
     "metadata": {},
     "output_type": "execute_result"
    },
    {
     "data": {
      "image/png": "[encoded data removed]",
      "text/plain": [
       "<matplotlib.figure.Figure at 0x1c17488da0>"
      ]
     },
     "metadata": {},
     "output_type": "display_data"
    }
   ],
   "source": [
    "plt.hist(dataOnOnvsOff['LED_PrePostDiff'].dropna())\n",
    "print((sorted(dataOnOnvsOff['LED_PrePostDiff'].dropna(), reverse=True))[:10])\n",
    "print(np.where(dataOnOnvsOff['LED_PrePostDiff'] == np.max(dataOnOnvsOff['LED_PrePostDiff']))) # \n",
    "np.max(dataOnOnvsOff['LED_PrePostDiff'])"
   ]
  },
  {
   "cell_type": "code",
   "execution_count": 506,
   "metadata": {
    "scrolled": true
   },
   "outputs": [
    {
     "name": "stdout",
     "output_type": "stream",
     "text": [
      "98     267.0\n",
      "99       0.0\n",
      "100    750.0\n",
      "Name: LED_PrePostDiff, dtype: float64\n",
      "110     170.0\n",
      "111     625.0\n",
      "112   -1125.5\n",
      "113    -105.0\n",
      "Name: LED_PrePostDiff, dtype: float64\n"
     ]
    }
   ],
   "source": [
    "print(dataOnOnvsOff['LED_PrePostDiff'][65:68])\n",
    "print(dataOnOnvsOff['LED_PrePostDiff'][75:79])\n",
    "\n",
    "\n"
   ]
  },
  {
   "cell_type": "markdown",
   "metadata": {},
   "source": [
    "PtNr of highest 10 LED increasements postop in OnOn vs Off population:\n",
    "99, 101, 113, 114, ..."
   ]
  },
  {
   "cell_type": "code",
   "execution_count": 487,
   "metadata": {},
   "outputs": [
    {
     "name": "stdout",
     "output_type": "stream",
     "text": [
      "(array([67]),)\n",
      "(array([76]),)\n",
      "(array([4]),)\n",
      "(array([41]),)\n",
      "(array([65]),)\n",
      "(array([56]),)\n",
      "(array([75]),)\n",
      "(array([24]),)\n",
      "(array([17]),)\n",
      "(array([68]),)\n",
      "-512.5\n",
      "68\n",
      "Pt nr: 68 improved UPDRS III OnOn vs Off with  -0.38461538461538464 While LED increased with  -512.5\n"
     ]
    }
   ],
   "source": [
    "# find id's/position of patients with large LED increase postoperative in OnOnvsOff population\n",
    "for pt in (sorted(dataOnOnvsOff['LED_PrePostDiff'].dropna(), reverse=True))[:10]:\n",
    "    print(np.where(dataOnOnvsOff['LED_PrePostDiff'] == pt)) # \n",
    "\n",
    "print(dataOnOnvsOff['LED_PrePostDiff'][67])\n",
    "print(dataOnOnvsOff['PtNr'][67])\n",
    "print('Pt nr:',dataOnOnvsOff['PtNr'][67],'improved UPDRS III OnOn vs Off with ',dataOnOnvsOff['UPDRS.III_%PrePost_MedOFF'][67],\n",
    "      'While LED increased with ',dataOnOnvsOff['LED_PrePostDiff'][67]) \n",
    "\n",
    "\n"
   ]
  },
  {
   "cell_type": "code",
   "execution_count": 481,
   "metadata": {},
   "outputs": [
    {
     "name": "stdout",
     "output_type": "stream",
     "text": [
      "-0.38461538461538464\n"
     ]
    }
   ],
   "source": [
    "print(dataOnOnvsOff['UPDRS.III_%PrePost_MedOFF'][67])"
   ]
  },
  {
   "cell_type": "code",
   "execution_count": 311,
   "metadata": {},
   "outputs": [
    {
     "data": {
      "text/plain": [
       "(array([ 5., 12.,  8., 15., 14., 10., 15.,  5.,  2.,  2.]),\n",
       " array([-1497. , -1272.3, -1047.6,  -822.9,  -598.2,  -373.5,  -148.8,\n",
       "           75.9,   300.6,   525.3,   750. ]),\n",
       " <a list of 10 Patch objects>)"
      ]
     },
     "execution_count": 311,
     "metadata": {},
     "output_type": "execute_result"
    },
    {
     "data": {
      "image/png": "[encoded data removed]",
      "text/plain": [
       "<matplotlib.figure.Figure at 0x1c0c948160>"
      ]
     },
     "metadata": {},
     "output_type": "display_data"
    }
   ],
   "source": [
    "plt.hist(dataOnOnvsOn['LED_PrePostDiff'].dropna())\n",
    "#np.any(np.isnan((dataOnOnvsOn['LED_PrePostDiff'])))"
   ]
  },
  {
   "cell_type": "code",
   "execution_count": null,
   "metadata": {},
   "outputs": [],
   "source": [
    "### explore machine learning algorithms"
   ]
  },
  {
   "cell_type": "code",
   "execution_count": null,
   "metadata": {},
   "outputs": [],
   "source": [
    "## prepare simple ML test\n",
    "# exclude variables with NaN and (more important?) with infinity!! (add 1 to 0 results in III or LED..)\n",
    "MLOfftest = dataOnOnvsOff\n",
    "MLOfftest[]"
   ]
  },
  {
   "cell_type": "code",
   "execution_count": 455,
   "metadata": {},
   "outputs": [
    {
     "ename": "ValueError",
     "evalue": "Input contains NaN, infinity or a value too large for dtype('float64').",
     "output_type": "error",
     "traceback": [
      "\u001b[0;31m---------------------------------------------------------------------------\u001b[0m",
      "\u001b[0;31mValueError\u001b[0m                                Traceback (most recent call last)",
      "\u001b[0;32m<ipython-input-455-91832990c8e1>\u001b[0m in \u001b[0;36m<module>\u001b[0;34m()\u001b[0m\n\u001b[1;32m      5\u001b[0m \u001b[0mlr\u001b[0m \u001b[0;34m=\u001b[0m \u001b[0mLinearRegression\u001b[0m\u001b[0;34m(\u001b[0m\u001b[0;34m)\u001b[0m\u001b[0;34m\u001b[0m\u001b[0m\n\u001b[1;32m      6\u001b[0m \u001b[0;31m# Fitting the linear regression to the data\u001b[0m\u001b[0;34m\u001b[0m\u001b[0;34m\u001b[0m\u001b[0m\n\u001b[0;32m----> 7\u001b[0;31m \u001b[0mlr\u001b[0m\u001b[0;34m.\u001b[0m\u001b[0mfit\u001b[0m\u001b[0;34m(\u001b[0m\u001b[0mdataOnOnvsOff\u001b[0m\u001b[0;34m[\u001b[0m\u001b[0;34m[\u001b[0m\u001b[0;34m'Age_DBS'\u001b[0m\u001b[0;34m,\u001b[0m\u001b[0;34m'UPDRS.III_pre_%LEDdif'\u001b[0m\u001b[0;34m,\u001b[0m \u001b[0;34m'LED_%PrePostDiff'\u001b[0m\u001b[0;34m]\u001b[0m\u001b[0;34m]\u001b[0m\u001b[0;34m.\u001b[0m\u001b[0mvalues\u001b[0m\u001b[0;34m,\u001b[0m\u001b[0mdataOnOnvsOff\u001b[0m\u001b[0;34m[\u001b[0m\u001b[0;34m'UPDRS.III_%PrePost_MedOFF'\u001b[0m\u001b[0;34m]\u001b[0m\u001b[0;34m)\u001b[0m\u001b[0;34m\u001b[0m\u001b[0m\n\u001b[0m\u001b[1;32m      8\u001b[0m \u001b[0;31m# Looking at model parameters\u001b[0m\u001b[0;34m\u001b[0m\u001b[0;34m\u001b[0m\u001b[0m\n\u001b[1;32m      9\u001b[0m \u001b[0;31m# Regression weights\u001b[0m\u001b[0;34m\u001b[0m\u001b[0;34m\u001b[0m\u001b[0m\n",
      "\u001b[0;32m/anaconda3/lib/python3.6/site-packages/sklearn/linear_model/base.py\u001b[0m in \u001b[0;36mfit\u001b[0;34m(self, X, y, sample_weight)\u001b[0m\n\u001b[1;32m    480\u001b[0m         \u001b[0mn_jobs_\u001b[0m \u001b[0;34m=\u001b[0m \u001b[0mself\u001b[0m\u001b[0;34m.\u001b[0m\u001b[0mn_jobs\u001b[0m\u001b[0;34m\u001b[0m\u001b[0m\n\u001b[1;32m    481\u001b[0m         X, y = check_X_y(X, y, accept_sparse=['csr', 'csc', 'coo'],\n\u001b[0;32m--> 482\u001b[0;31m                          y_numeric=True, multi_output=True)\n\u001b[0m\u001b[1;32m    483\u001b[0m \u001b[0;34m\u001b[0m\u001b[0m\n\u001b[1;32m    484\u001b[0m         \u001b[0;32mif\u001b[0m \u001b[0msample_weight\u001b[0m \u001b[0;32mis\u001b[0m \u001b[0;32mnot\u001b[0m \u001b[0;32mNone\u001b[0m \u001b[0;32mand\u001b[0m \u001b[0mnp\u001b[0m\u001b[0;34m.\u001b[0m\u001b[0matleast_1d\u001b[0m\u001b[0;34m(\u001b[0m\u001b[0msample_weight\u001b[0m\u001b[0;34m)\u001b[0m\u001b[0;34m.\u001b[0m\u001b[0mndim\u001b[0m \u001b[0;34m>\u001b[0m \u001b[0;36m1\u001b[0m\u001b[0;34m:\u001b[0m\u001b[0;34m\u001b[0m\u001b[0m\n",
      "\u001b[0;32m/anaconda3/lib/python3.6/site-packages/sklearn/utils/validation.py\u001b[0m in \u001b[0;36mcheck_X_y\u001b[0;34m(X, y, accept_sparse, dtype, order, copy, force_all_finite, ensure_2d, allow_nd, multi_output, ensure_min_samples, ensure_min_features, y_numeric, warn_on_dtype, estimator)\u001b[0m\n\u001b[1;32m    571\u001b[0m     X = check_array(X, accept_sparse, dtype, order, copy, force_all_finite,\n\u001b[1;32m    572\u001b[0m                     \u001b[0mensure_2d\u001b[0m\u001b[0;34m,\u001b[0m \u001b[0mallow_nd\u001b[0m\u001b[0;34m,\u001b[0m \u001b[0mensure_min_samples\u001b[0m\u001b[0;34m,\u001b[0m\u001b[0;34m\u001b[0m\u001b[0m\n\u001b[0;32m--> 573\u001b[0;31m                     ensure_min_features, warn_on_dtype, estimator)\n\u001b[0m\u001b[1;32m    574\u001b[0m     \u001b[0;32mif\u001b[0m \u001b[0mmulti_output\u001b[0m\u001b[0;34m:\u001b[0m\u001b[0;34m\u001b[0m\u001b[0m\n\u001b[1;32m    575\u001b[0m         y = check_array(y, 'csr', force_all_finite=True, ensure_2d=False,\n",
      "\u001b[0;32m/anaconda3/lib/python3.6/site-packages/sklearn/utils/validation.py\u001b[0m in \u001b[0;36mcheck_array\u001b[0;34m(array, accept_sparse, dtype, order, copy, force_all_finite, ensure_2d, allow_nd, ensure_min_samples, ensure_min_features, warn_on_dtype, estimator)\u001b[0m\n\u001b[1;32m    451\u001b[0m                              % (array.ndim, estimator_name))\n\u001b[1;32m    452\u001b[0m         \u001b[0;32mif\u001b[0m \u001b[0mforce_all_finite\u001b[0m\u001b[0;34m:\u001b[0m\u001b[0;34m\u001b[0m\u001b[0m\n\u001b[0;32m--> 453\u001b[0;31m             \u001b[0m_assert_all_finite\u001b[0m\u001b[0;34m(\u001b[0m\u001b[0marray\u001b[0m\u001b[0;34m)\u001b[0m\u001b[0;34m\u001b[0m\u001b[0m\n\u001b[0m\u001b[1;32m    454\u001b[0m \u001b[0;34m\u001b[0m\u001b[0m\n\u001b[1;32m    455\u001b[0m     \u001b[0mshape_repr\u001b[0m \u001b[0;34m=\u001b[0m \u001b[0m_shape_repr\u001b[0m\u001b[0;34m(\u001b[0m\u001b[0marray\u001b[0m\u001b[0;34m.\u001b[0m\u001b[0mshape\u001b[0m\u001b[0;34m)\u001b[0m\u001b[0;34m\u001b[0m\u001b[0m\n",
      "\u001b[0;32m/anaconda3/lib/python3.6/site-packages/sklearn/utils/validation.py\u001b[0m in \u001b[0;36m_assert_all_finite\u001b[0;34m(X)\u001b[0m\n\u001b[1;32m     42\u001b[0m             and not np.isfinite(X).all()):\n\u001b[1;32m     43\u001b[0m         raise ValueError(\"Input contains NaN, infinity\"\n\u001b[0;32m---> 44\u001b[0;31m                          \" or a value too large for %r.\" % X.dtype)\n\u001b[0m\u001b[1;32m     45\u001b[0m \u001b[0;34m\u001b[0m\u001b[0m\n\u001b[1;32m     46\u001b[0m \u001b[0;34m\u001b[0m\u001b[0m\n",
      "\u001b[0;31mValueError\u001b[0m: Input contains NaN, infinity or a value too large for dtype('float64')."
     ]
    }
   ],
   "source": [
    "\n",
    "# Linear Regression\n",
    "from sklearn.linear_model import LinearRegression\n",
    "lr = LinearRegression()\n",
    "# Fitting the linear regression to the data\n",
    "lr.fit(dataOnOnvsOff[['Age_DBS','UPDRS.III_pre_%LEDdif', 'LED_%PrePostDiff']].values,dataOnOnvsOff['UPDRS.III_%PrePost_MedOFF'])\n",
    "# Looking at model parameters\n",
    "# Regression weights\n",
    "\n",
    "print('Weights are %f, %f, %f ' % (lr.coef_[0], lr.coef_[1], lr.coef_[2]))\n",
    "# Intercept\n",
    "print('Intercept is %f' % lr.intercept_)\n",
    "\n",
    "# Predict target variable based on input data (should be unseen data)\n",
    "prediction = lr.predict(dataOnOnvsOff[['Age_DBS','UPDRS.III_pre_%LEDdif', 'LED_%PrePostDiff']].values)"
   ]
  }
 ],
 "metadata": {
  "kernelspec": {
   "display_name": "Python 3",
   "language": "python",
   "name": "python3"
  },
  "language_info": {
   "codemirror_mode": {
    "name": "ipython",
    "version": 3
   },
   "file_extension": ".py",
   "mimetype": "text/x-python",
   "name": "python",
   "nbconvert_exporter": "python",
   "pygments_lexer": "ipython3",
   "version": "3.6.4"
  }
 },
 "nbformat": 4,
 "nbformat_minor": 2
}
